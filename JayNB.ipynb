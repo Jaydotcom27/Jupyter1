{
  "metadata": {
    "language_info": {
      "codemirror_mode": {
        "name": "python",
        "version": 3
      },
      "file_extension": ".py",
      "mimetype": "text/x-python",
      "name": "python",
      "nbconvert_exporter": "python",
      "pygments_lexer": "ipython3",
      "version": "3.8"
    },
    "kernelspec": {
      "name": "python",
      "display_name": "Python (Pyodide)",
      "language": "python"
    }
  },
  "nbformat_minor": 4,
  "nbformat": 4,
  "cells": [
    {
      "cell_type": "markdown",
      "source": "# My Jupyter Notebook on IBM Watson Studio",
      "metadata": {}
    },
    {
      "cell_type": "markdown",
      "source": "**Jeremy Alejandro Martínez Matos**  \nSenior Lead Product Engineer",
      "metadata": {}
    },
    {
      "cell_type": "markdown",
      "source": "*I am interested in Data Science because it enables me to bring my interest of creating to the next level, as an artist and an engineer, finding ways to join my two passions is part of my long term goals, and I'm sure that Data Science can help with that idea*.",
      "metadata": {}
    },
    {
      "cell_type": "markdown",
      "source": "### The following code perfoms a simple math sum.",
      "metadata": {}
    },
    {
      "cell_type": "code",
      "source": "1 + 1",
      "metadata": {
        "trusted": true
      },
      "execution_count": 5,
      "outputs": [
        {
          "execution_count": 5,
          "output_type": "execute_result",
          "data": {
            "text/plain": "2"
          },
          "metadata": {}
        }
      ]
    },
    {
      "cell_type": "markdown",
      "source": "### **My favorite movies**  \n* Interstellar\n* Hustle\n* The Fast & Furious  \n    1. [Tokyo Drift (3)](https://en.wikipedia.org/wiki/The_Fast_and_the_Furious:_Tokyo_Drift)\n    2. [2 Fast 2 Furious](https://en.wikipedia.org/wiki/2_Fast_2_Furious)\n",
      "metadata": {}
    }
  ]
}